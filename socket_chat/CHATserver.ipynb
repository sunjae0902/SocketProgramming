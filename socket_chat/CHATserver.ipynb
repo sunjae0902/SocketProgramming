{
 "cells": [
  {
   "cell_type": "code",
   "execution_count": 1,
   "id": "9565c29e",
   "metadata": {},
   "outputs": [
    {
     "name": "stdout",
     "output_type": "stream",
     "text": [
      "나:안녕 난 서버\n",
      "상대방: 안녕 난 클라이언트\n",
      "나:응 그렇구나\n",
      "상대방: 종료\n"
     ]
    },
    {
     "ename": "TypeError",
     "evalue": "close() takes exactly one argument (0 given)",
     "output_type": "error",
     "traceback": [
      "\u001b[0;31m---------------------------------------------------------------------------\u001b[0m",
      "\u001b[0;31mTypeError\u001b[0m                                 Traceback (most recent call last)",
      "\u001b[0;32m<ipython-input-1-cf1f61bc1774>\u001b[0m in \u001b[0;36m<module>\u001b[0;34m\u001b[0m\n\u001b[1;32m     24\u001b[0m     \u001b[0;32mif\u001b[0m\u001b[0;34m(\u001b[0m\u001b[0mrecvData\u001b[0m\u001b[0;34m.\u001b[0m\u001b[0mdecode\u001b[0m\u001b[0;34m(\u001b[0m\u001b[0;34m'utf-8'\u001b[0m\u001b[0;34m)\u001b[0m\u001b[0;34m==\u001b[0m\u001b[0;34m\"종료\"\u001b[0m\u001b[0;34m)\u001b[0m\u001b[0;34m:\u001b[0m\u001b[0;34m\u001b[0m\u001b[0;34m\u001b[0m\u001b[0m\n\u001b[1;32m     25\u001b[0m         \u001b[0;32mbreak\u001b[0m\u001b[0;34m\u001b[0m\u001b[0;34m\u001b[0m\u001b[0m\n\u001b[0;32m---> 26\u001b[0;31m \u001b[0mclose\u001b[0m\u001b[0;34m(\u001b[0m\u001b[0;34m)\u001b[0m\u001b[0;34m\u001b[0m\u001b[0;34m\u001b[0m\u001b[0m\n\u001b[0m\u001b[1;32m     27\u001b[0m \u001b[0;34m\u001b[0m\u001b[0m\n\u001b[1;32m     28\u001b[0m \u001b[0;34m\u001b[0m\u001b[0m\n",
      "\u001b[0;31mTypeError\u001b[0m: close() takes exactly one argument (0 given)"
     ]
    }
   ],
   "source": [
    "#서버 코드\n",
    "from socket import * #소켓 라이브러리 임포트\n",
    "\n",
    "def Send(sock):\n",
    "    sendData = input('나:')\n",
    "    sock.send(sendData.encode('utf-8')) #input으로 server에서 보낼 데이터를 입력받아서 인코딩 후 전송하는 함수\n",
    "\n",
    "    \n",
    "        \n",
    "\n",
    "host=\"127.0.0.1\" # 사용할 host ip,port 지정 \n",
    "port=16022\n",
    "\n",
    "\n",
    "serversock = socket(AF_INET,SOCK_STREAM) #socket함수로 소켓 생성 \n",
    "serversock.bind((host,port))\n",
    "serversock.listen(1)\n",
    "connection,add=serversock.accept()\n",
    "\n",
    "while True: #무한 루프. 프로그램을 종료하기 전까지 계속 실행\n",
    "    Send(connection)\n",
    "    recvData = connection.recv(1024) \n",
    "    print('상대방:',recvData.decode('utf-8'))  #상대방으로부터 1024바이트만큼의 데이터를 받고 디코딩\n",
    "    if(recvData.decode('utf-8')==\"종료\"):\n",
    "        break   \n",
    "close()\n",
    "        \n",
    "\n",
    "\n",
    "\n"
   ]
  },
  {
   "cell_type": "code",
   "execution_count": null,
   "id": "3f985bba",
   "metadata": {},
   "outputs": [],
   "source": []
  },
  {
   "cell_type": "code",
   "execution_count": null,
   "id": "32bee669",
   "metadata": {},
   "outputs": [],
   "source": []
  }
 ],
 "metadata": {
  "kernelspec": {
   "display_name": "Python 3",
   "language": "python",
   "name": "python3"
  },
  "language_info": {
   "codemirror_mode": {
    "name": "ipython",
    "version": 3
   },
   "file_extension": ".py",
   "mimetype": "text/x-python",
   "name": "python",
   "nbconvert_exporter": "python",
   "pygments_lexer": "ipython3",
   "version": "3.8.8"
  }
 },
 "nbformat": 4,
 "nbformat_minor": 5
}
