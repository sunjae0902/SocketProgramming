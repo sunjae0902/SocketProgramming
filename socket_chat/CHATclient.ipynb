{
 "cells": [
  {
   "cell_type": "code",
   "execution_count": 1,
   "id": "daa64076",
   "metadata": {},
   "outputs": [
    {
     "name": "stdout",
     "output_type": "stream",
     "text": [
      "16022 번 포트 사용중. 연결됨\n",
      "상대방: 안녕 난 서버\n",
      "나:안녕 난 클라이언트\n",
      "상대방: 응 그렇구나\n",
      "나:종료\n"
     ]
    }
   ],
   "source": [
    "#TCP기반 socket 프로그래밍 -> 서버/클라이언트 간 채팅 프로그램 만들기. 클라이언트 코드\n",
    "\n",
    "from socket import * #socket 라이브러리 임포트\n",
    "\n",
    "    \n",
    "def Recv(sock):\n",
    "    recvData = sock.recv(1024) #상대방에게 받은 데이터(최대 1024바이트)를 화면에 출력하는 함수\n",
    "    print('상대방:', recvData.decode('utf-8'))  \n",
    "     \n",
    "host=\"127.0.0.1\" # 사용할 host ip,port 지정 \n",
    "port=16022\n",
    "\n",
    "\n",
    "clientsock = socket(AF_INET,SOCK_STREAM) #socket함수로 소켓 생성 , 연결\n",
    "clientsock.connect((host,port)) \n",
    "print(port,\"번 포트 사용중. 연결됨\")\n",
    "\n",
    "\n",
    "while True:\n",
    "    Recv(clientsock)\n",
    "    sendData = input('나:')\n",
    "    clientsock.send(sendData.encode('utf-8')) \n",
    "    if (sendData==\"종료\"):\n",
    "        break\n",
    "\n",
    "   \n",
    "    \n"
   ]
  },
  {
   "cell_type": "code",
   "execution_count": null,
   "id": "01cbe02e",
   "metadata": {},
   "outputs": [],
   "source": []
  },
  {
   "cell_type": "code",
   "execution_count": null,
   "id": "db8e50cf",
   "metadata": {},
   "outputs": [],
   "source": []
  }
 ],
 "metadata": {
  "kernelspec": {
   "display_name": "Python 3",
   "language": "python",
   "name": "python3"
  },
  "language_info": {
   "codemirror_mode": {
    "name": "ipython",
    "version": 3
   },
   "file_extension": ".py",
   "mimetype": "text/x-python",
   "name": "python",
   "nbconvert_exporter": "python",
   "pygments_lexer": "ipython3",
   "version": "3.8.8"
  }
 },
 "nbformat": 4,
 "nbformat_minor": 5
}
