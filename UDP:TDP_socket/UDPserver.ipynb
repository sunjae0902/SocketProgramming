{
 "cells": [
  {
   "cell_type": "code",
   "execution_count": null,
   "id": "5079f3bd",
   "metadata": {},
   "outputs": [],
   "source": [
    "#UDP 소켓 프로그래밍으로 서버/클라이언트 간 메시지 전달하기 -server (local host)\n",
    "\n",
    "import socket\n",
    "\n",
    "UDP_IP = '127.0.0.1'\n",
    "UDP_PORT = 16108\n",
    "\n",
    "\n",
    "sock = socket.socket(socket.AF_INET,socket.SOCK_DGRAM)  #소켓 생성 및 지정된 주소(ip,port) 할당 , UDP로 통신하므로 datagram 사용\n",
    "sock.bind((UDP_IP, UDP_PORT)) \n",
    "\n",
    "\n",
    "while True: #무한 루프, 클라이언트로부터 데이터가 올 때까지 기다린다\n",
    "    data, addr = sock.recvfrom(1024) #최대 1024바이트만큼 메시지를 받음\n",
    "    print('Connected by', addr)\n",
    "    modifiedData = data.decode().upper()\n",
    "    print ('received message:', data) #받은 데이터 출력\n",
    "    sock.sendto(modifiedData.encode(), addr) #socket 라이브러리 내 내장함수 sendto를 사용하여 데이터를 인코딩 후 클라이언트에 다시 보냄\n"
   ]
  }
 ],
 "metadata": {
  "kernelspec": {
   "display_name": "Python 3",
   "language": "python",
   "name": "python3"
  },
  "language_info": {
   "codemirror_mode": {
    "name": "ipython",
    "version": 3
   },
   "file_extension": ".py",
   "mimetype": "text/x-python",
   "name": "python",
   "nbconvert_exporter": "python",
   "pygments_lexer": "ipython3",
   "version": "3.8.8"
  }
 },
 "nbformat": 4,
 "nbformat_minor": 5
}
