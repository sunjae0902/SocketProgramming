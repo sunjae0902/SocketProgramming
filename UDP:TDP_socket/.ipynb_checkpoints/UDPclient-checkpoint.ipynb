{
 "cells": [
  {
   "cell_type": "code",
   "execution_count": 1,
   "id": "9abac20c",
   "metadata": {},
   "outputs": [
    {
     "name": "stdout",
     "output_type": "stream",
     "text": [
      "UDP target ip -> 127.0.0.1\n",
      "UDP target port -> 16108\n",
      "Massage: -> 안녕하세요\n",
      "\n",
      "Received: b'\\xec\\x95\\x88\\xeb\\x85\\x95\\xed\\x95\\x98\\xec\\x84\\xb8\\xec\\x9a\\x94'\n"
     ]
    }
   ],
   "source": [
    "#UDP 소켓 프로그래밍으로 서버/클라이언트 간 메시지 전달하기 -clinet\n",
    "import socket\n",
    "\n",
    "\n",
    "UDP_IP='127.0.0.1' #host의 ip address\n",
    "UDP_PORT=16108 #사용중이 아닌 번호 지정\n",
    "Message='안녕하세요'\n",
    "\n",
    "print(\"UDP target ip -> %s\" %UDP_IP)\n",
    "print(\"UDP target port -> %d\" %UDP_PORT)\n",
    "print(\"Massage: -> %s\\n\" %Message)\n",
    "\n",
    "sock = socket.socket(socket.AF_INET,socket.SOCK_DGRAM)  #소켓 생성, 서버와 동일\n",
    "sock.sendto(Message.encode(), (UDP_IP, UDP_PORT)) #메시지를 인코딩 후 지정한 주소 (서버의 네트워크 ip, port) 로 전송\n",
    "\n",
    "modifiedData = sock.recv(2048) #서버로부터 받을 데이터를 다시 출력\n",
    "print('Received:', modifiedData)\n",
    "\n",
    "sock.close() #연결 해제\n",
    "\n"
   ]
  },
  {
   "cell_type": "code",
   "execution_count": null,
   "id": "03a71b7a",
   "metadata": {},
   "outputs": [],
   "source": []
  }
 ],
 "metadata": {
  "kernelspec": {
   "display_name": "Python 3",
   "language": "python",
   "name": "python3"
  },
  "language_info": {
   "codemirror_mode": {
    "name": "ipython",
    "version": 3
   },
   "file_extension": ".py",
   "mimetype": "text/x-python",
   "name": "python",
   "nbconvert_exporter": "python",
   "pygments_lexer": "ipython3",
   "version": "3.8.8"
  }
 },
 "nbformat": 4,
 "nbformat_minor": 5
}
