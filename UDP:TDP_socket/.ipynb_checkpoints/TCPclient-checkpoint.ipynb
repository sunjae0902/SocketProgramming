{
 "cells": [
  {
   "cell_type": "code",
   "execution_count": 5,
   "id": "51032d8c",
   "metadata": {
    "scrolled": true
   },
   "outputs": [
    {
     "name": "stdout",
     "output_type": "stream",
     "text": [
      "Received:  Hello, world New world\n"
     ]
    }
   ],
   "source": [
    "#TCP socket 통신- client\n",
    "\n",
    "import socket\n",
    "\n",
    "HOST = '127.0.0.1'                \n",
    "PORT = 16109             \n",
    "\n",
    "s = socket.socket(socket.AF_INET, socket.SOCK_STREAM)\n",
    "s.connect((HOST, PORT)) #소켓 생성 후 연결\n",
    "s.sendall(('Hello, world New world').encode()) #데이터를 서버로 전송\n",
    "data = s.recv(1024)#요청한 데이터를 받아서 data 변수에 저장\n",
    "\n",
    "s.close() #연결 해제\n",
    "\n",
    "print ('Received: ', data.decode()) #받은 데이터 출력\n",
    "\n"
   ]
  },
  {
   "cell_type": "code",
   "execution_count": null,
   "id": "ac3962be",
   "metadata": {},
   "outputs": [],
   "source": []
  },
  {
   "cell_type": "code",
   "execution_count": null,
   "id": "e52145b5",
   "metadata": {},
   "outputs": [],
   "source": []
  }
 ],
 "metadata": {
  "kernelspec": {
   "display_name": "Python 3",
   "language": "python",
   "name": "python3"
  },
  "language_info": {
   "codemirror_mode": {
    "name": "ipython",
    "version": 3
   },
   "file_extension": ".py",
   "mimetype": "text/x-python",
   "name": "python",
   "nbconvert_exporter": "python",
   "pygments_lexer": "ipython3",
   "version": "3.8.8"
  }
 },
 "nbformat": 4,
 "nbformat_minor": 5
}
