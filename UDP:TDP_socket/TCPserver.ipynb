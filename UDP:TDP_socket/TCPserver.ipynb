{
 "cells": [
  {
   "cell_type": "code",
   "execution_count": 2,
   "id": "1280f916",
   "metadata": {},
   "outputs": [
    {
     "name": "stdout",
     "output_type": "stream",
     "text": [
      "16109번 포트 사용\n",
      "Connected by ('127.0.0.1', 58066)\n"
     ]
    }
   ],
   "source": [
    "#TCP socket 통신- server\n",
    "\n",
    "import socket\n",
    "\n",
    "HOST = '127.0.0.1'               \n",
    "PORT = 16109     # host port번호 및 ip지정\n",
    "\n",
    "s = socket.socket(socket.AF_INET, socket.SOCK_STREAM) #소켓 생성, 할당, 스트림 사용(tcp)\n",
    "s.bind((HOST, PORT)) \n",
    "s.listen(1)\n",
    "\n",
    "print('%d번 포트 사용'%PORT)\n",
    "\n",
    "conn, addr = s.accept() #server가 client의 연결 요청을 받고, conn을 정의하여 바로 연결\n",
    "print('Connected by',addr)\n",
    "\n",
    "while 1:\n",
    "    data = conn.recv(1024) #client로부터 받을 데이터 (최대 1024바이트)\n",
    "    if not data: #데이터가 없으면 연결 종료\n",
    "        break\n",
    "    conn.sendall(data)  #client로 data를 전송\n",
    "conn.close() #연결 해제 \n"
   ]
  },
  {
   "cell_type": "code",
   "execution_count": null,
   "id": "6c64e81b",
   "metadata": {},
   "outputs": [],
   "source": []
  }
 ],
 "metadata": {
  "kernelspec": {
   "display_name": "Python 3",
   "language": "python",
   "name": "python3"
  },
  "language_info": {
   "codemirror_mode": {
    "name": "ipython",
    "version": 3
   },
   "file_extension": ".py",
   "mimetype": "text/x-python",
   "name": "python",
   "nbconvert_exporter": "python",
   "pygments_lexer": "ipython3",
   "version": "3.8.8"
  }
 },
 "nbformat": 4,
 "nbformat_minor": 5
}
